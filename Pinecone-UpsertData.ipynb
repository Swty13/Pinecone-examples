{
 "cells": [
  {
   "cell_type": "code",
   "execution_count": 12,
   "metadata": {
    "colab": {
     "base_uri": "https://localhost:8080/",
     "height": 35
    },
    "id": "LBeV2XOjcIL-",
    "outputId": "90e7f852-1ca3-4822-aac1-c06c598ff232"
   },
   "outputs": [],
   "source": [
    "import pinecone\n",
    "import random\n",
    "import itertools"
   ]
  },
  {
   "cell_type": "markdown",
   "metadata": {},
   "source": [
    "## Connect to Pinecone Index"
   ]
  },
  {
   "cell_type": "code",
   "execution_count": 13,
   "metadata": {},
   "outputs": [],
   "source": [
    "def initialize_pinecone():\n",
    "    \"\"\"\n",
    "    To use Pinecone, one must have an API key.\n",
    "    By default, ENVIRONMENT is us-west1-gcp.\n",
    "    :return:None\n",
    "    \"\"\"\n",
    "    PINECONE_API_KEY = \"XXXXXXXXXXXXXXXXXXXXXXXXXXXXX\"\n",
    "    pinecone.init(api_key=PINECONE_API_KEY, environment=\"us-west1-gcp\")\n",
    "\n",
    "\n",
    "def connect_pinecone_index(pinecone_index_name):\n",
    "    \"\"\"\n",
    "    Connection to the pinecone index\n",
    "    :param pinecone_index_name\n",
    "    :return: pinecone index\n",
    "    \"\"\"\n",
    "    initialize_pinecone()\n",
    "    pinecone_index = pinecone.Index(index_name=pinecone_index_name)\n",
    "    return pinecone_index"
   ]
  },
  {
   "cell_type": "code",
   "execution_count": 14,
   "metadata": {},
   "outputs": [],
   "source": [
    "initialize_pinecone()\n",
    "pinecone_index_name = \"myfirstindex\"\n",
    "index = connect_pinecone_index(pinecone_index_name)"
   ]
  },
  {
   "cell_type": "markdown",
   "metadata": {},
   "source": [
    "## Prepare Dummy Data"
   ]
  },
  {
   "cell_type": "code",
   "execution_count": 42,
   "metadata": {},
   "outputs": [],
   "source": [
    "def chunks(iterable, batch_size=100):\n",
    "    \"\"\"A helper function to break an iterable into chunks of size batch_size.\"\"\"\n",
    "    it = iter(iterable)\n",
    "    chunk = tuple(itertools.islice(it, batch_size))\n",
    "    while chunk:\n",
    "        yield chunk\n",
    "        chunk = tuple(itertools.islice(it, batch_size))\n",
    "\n",
    "vector_dim = 512\n",
    "vector_count = 100\n",
    "\n",
    "# Example generator that generates many (id, vector) pairs\n",
    "example_data_generator = map(lambda i: (f'id-{i}', [random.random() for _ in range(vector_dim)]), range(vector_count))"
   ]
  },
  {
   "cell_type": "markdown",
   "metadata": {},
   "source": [
    "## Upsert Data"
   ]
  },
  {
   "cell_type": "code",
   "execution_count": 43,
   "metadata": {},
   "outputs": [],
   "source": [
    "for ids_vectors_chunk in chunks(example_data_generator, batch_size=10):\n",
    "    index.upsert(vectors=ids_vectors_chunk,namespace=\"my-first-namespace\")"
   ]
  },
  {
   "cell_type": "markdown",
   "metadata": {},
   "source": [
    "### 1. Check Records on Index"
   ]
  },
  {
   "cell_type": "code",
   "execution_count": 44,
   "metadata": {},
   "outputs": [
    {
     "data": {
      "text/plain": [
       "{'dimension': 512,\n",
       " 'index_fullness': 0.0,\n",
       " 'namespaces': {'my-first-namespace': {'vector_count': 100}},\n",
       " 'total_vector_count': 100}"
      ]
     },
     "execution_count": 44,
     "metadata": {},
     "output_type": "execute_result"
    }
   ],
   "source": [
    "index.describe_index_stats()"
   ]
  },
  {
   "cell_type": "markdown",
   "metadata": {},
   "source": [
    "### 2. Fetch Data by ID"
   ]
  },
  {
   "cell_type": "code",
   "execution_count": 49,
   "metadata": {
    "scrolled": false
   },
   "outputs": [],
   "source": [
    "fetch_response = index.fetch(ids=['id-0','id-9'],namespace=\"my-first-namespace\")"
   ]
  },
  {
   "cell_type": "markdown",
   "metadata": {},
   "source": [
    "### 3. Delete by ID"
   ]
  },
  {
   "cell_type": "code",
   "execution_count": 38,
   "metadata": {},
   "outputs": [
    {
     "data": {
      "text/plain": [
       "{}"
      ]
     },
     "execution_count": 38,
     "metadata": {},
     "output_type": "execute_result"
    }
   ],
   "source": [
    "index.delete(ids=[\"id-1\", \"id-2\"], namespace='my-first-namespace')"
   ]
  },
  {
   "cell_type": "markdown",
   "metadata": {},
   "source": [
    "### 4. Delete All Records"
   ]
  },
  {
   "cell_type": "code",
   "execution_count": null,
   "metadata": {},
   "outputs": [],
   "source": [
    "index.delete(delete_all=True,namespace='my-first-namespace')"
   ]
  },
  {
   "cell_type": "markdown",
   "metadata": {},
   "source": [
    "### 5. Delete by filter"
   ]
  },
  {
   "cell_type": "code",
   "execution_count": 56,
   "metadata": {
    "colab": {
     "base_uri": "https://localhost:8080/"
    },
    "id": "mVCSZNB7cAmY",
    "outputId": "8dfc156c-13de-4e64-c2fb-5e961829e221"
   },
   "outputs": [],
   "source": [
    "index.delete(filter={\"id\": {\"$eq\": 'id-1'}},namespace=\"my-first-namespace\")"
   ]
  },
  {
   "cell_type": "code",
   "execution_count": null,
   "metadata": {
    "id": "mddKTxBwcAul"
   },
   "outputs": [],
   "source": []
  },
  {
   "cell_type": "code",
   "execution_count": null,
   "metadata": {
    "id": "syIfhGtfcAxd"
   },
   "outputs": [],
   "source": []
  },
  {
   "cell_type": "code",
   "execution_count": null,
   "metadata": {
    "id": "_TInNPVBcA1I"
   },
   "outputs": [],
   "source": []
  }
 ],
 "metadata": {
  "colab": {
   "name": "Pinecone-Test-Delete.ipynb",
   "provenance": []
  },
  "kernelspec": {
   "display_name": "mlflow_env_mounted",
   "language": "python",
   "name": "mlflow_env_mounted"
  },
  "language_info": {
   "codemirror_mode": {
    "name": "ipython",
    "version": 3
   },
   "file_extension": ".py",
   "mimetype": "text/x-python",
   "name": "python",
   "nbconvert_exporter": "python",
   "pygments_lexer": "ipython3",
   "version": "3.8.5"
  }
 },
 "nbformat": 4,
 "nbformat_minor": 1
}
