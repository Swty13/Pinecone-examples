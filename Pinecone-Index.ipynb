{
 "cells": [
  {
   "cell_type": "code",
   "execution_count": 2,
   "id": "82777169",
   "metadata": {},
   "outputs": [
    {
     "data": {
      "text/plain": [
       "'2.0.13'"
      ]
     },
     "execution_count": 2,
     "metadata": {},
     "output_type": "execute_result"
    }
   ],
   "source": [
    "import pinecone as pn\n",
    "pn.__version__"
   ]
  },
  {
   "cell_type": "markdown",
   "id": "9bd5c4fe",
   "metadata": {},
   "source": [
    "## Index Creation\n",
    "\n",
    "> An index is the highest-level organizational unit of vector data in Pinecone. It accepts and stores vectors, serves queries over the vectors it contains, and does other vector operations over its contents. Each index runs on at least one pod."
   ]
  },
  {
   "cell_type": "code",
   "execution_count": 13,
   "id": "b6416126",
   "metadata": {},
   "outputs": [],
   "source": [
    "def initialize_pinecone():\n",
    "    \"\"\"\n",
    "    To use Pinecone, one must have an API key.\n",
    "    By default, ENVIRONMENT is us-west1-gcp.\n",
    "    :return:None\n",
    "    \"\"\"\n",
    "    PINECONE_API_KEY = \"XXXXXXXXXXXXXXXXXXXXXXXXXXX\"\n",
    "    pinecone.init(api_key=PINECONE_API_KEY, environment=\"us-west1-gcp\")\n",
    "\n",
    "\n",
    "def create_pinecone_index(pinecone_index_name):\n",
    "    \"\"\"\n",
    "     Create an index named $pinecone_index_name that will perform approximate nearest-neighbor search using cosine distance for 768-dimensional vectors\n",
    "    :param pinecone_index_name\n",
    "    :return:None\n",
    "    \"\"\"\n",
    "    if pinecone_index_name in pinecone.list_indexes():\n",
    "        # pinecone.delete_index(pinecone_index_name)\n",
    "        return {\"ERROR\": \"Index Already exist\", \"ErrorCode\": 400}, 400\n",
    "    pinecone.create_index(\n",
    "        name=pinecone_index_name,\n",
    "        index_type=\"approximated\",\n",
    "        dimension=512,\n",
    "        metric=\"cosine\",\n",
    "    )"
   ]
  },
  {
   "cell_type": "markdown",
   "id": "9cefb858",
   "metadata": {},
   "source": [
    "## Connect to Index"
   ]
  },
  {
   "cell_type": "code",
   "execution_count": 6,
   "id": "5b4dca64",
   "metadata": {},
   "outputs": [],
   "source": [
    "def connect_pinecone_index(pinecone_index_name):\n",
    "    \"\"\"\n",
    "    Connection to the pinecone index\n",
    "    :param pinecone_index_name\n",
    "    :return: pinecone index\n",
    "    \"\"\"\n",
    "    initialize_pinecone()\n",
    "    pinecone_index = pinecone.Index(index_name=pinecone_index_name)\n",
    "    return pinecone_index"
   ]
  },
  {
   "cell_type": "code",
   "execution_count": 14,
   "id": "b903d516",
   "metadata": {},
   "outputs": [],
   "source": [
    "initialize_pinecone()\n",
    "pinecone_index_name = \"myfirstindex\"\n",
    "create_pinecone_index(pinecone_index_name)\n",
    "index = connect_pinecone_index(pinecone_index_name)"
   ]
  },
  {
   "cell_type": "markdown",
   "id": "36dc13e8",
   "metadata": {},
   "source": [
    "## Configurations"
   ]
  },
  {
   "cell_type": "markdown",
   "id": "ab785ca4",
   "metadata": {},
   "source": [
    "### 1. List all your Pinecone indexes:"
   ]
  },
  {
   "cell_type": "code",
   "execution_count": 15,
   "id": "b7ad7066",
   "metadata": {},
   "outputs": [
    {
     "data": {
      "text/plain": [
       "['myfirstindex']"
      ]
     },
     "execution_count": 15,
     "metadata": {},
     "output_type": "execute_result"
    }
   ],
   "source": [
    "pinecone.list_indexes()"
   ]
  },
  {
   "cell_type": "markdown",
   "id": "087e77db",
   "metadata": {},
   "source": [
    "### 2 . Get the configuration and current status of an index named \"pinecone-index\":"
   ]
  },
  {
   "cell_type": "code",
   "execution_count": 16,
   "id": "ed0d5742",
   "metadata": {},
   "outputs": [
    {
     "data": {
      "text/plain": [
       "IndexDescription(name='myfirstindex', metric='cosine', replicas=1, dimension=512.0, shards=1, pods=1, pod_type='p1', status={'ready': True, 'state': 'Ready'}, metadata_config=None, source_collection='')"
      ]
     },
     "execution_count": 16,
     "metadata": {},
     "output_type": "execute_result"
    }
   ],
   "source": [
    "pinecone.describe_index(pinecone_index_name)"
   ]
  },
  {
   "cell_type": "markdown",
   "id": "a52f1c2f",
   "metadata": {},
   "source": [
    "### Performance-Tuning\n",
    "As a starting point, you could choose\n",
    ">* shards=2, \n",
    ">* pods=2, \n",
    ">* podtype='p1.x1'\n",
    "\n",
    "\n",
    "Then, add replicas to achieve QPS. More shards will also allow you to increase your batch upsert count >100 depending on other factors mentioned here: https://www.pinecone.io/docs/performance-tuning/#performance-tuning"
   ]
  },
  {
   "cell_type": "markdown",
   "id": "58c89fc7",
   "metadata": {},
   "source": [
    "### 3.  Check index size for each namespace\n"
   ]
  },
  {
   "cell_type": "code",
   "execution_count": 17,
   "id": "14cf558e",
   "metadata": {},
   "outputs": [
    {
     "data": {
      "text/plain": [
       "{'dimension': 512,\n",
       " 'index_fullness': 0.0,\n",
       " 'namespaces': {},\n",
       " 'total_vector_count': 0}"
      ]
     },
     "execution_count": 17,
     "metadata": {},
     "output_type": "execute_result"
    }
   ],
   "source": [
    "index.describe_index_stats()"
   ]
  },
  {
   "cell_type": "markdown",
   "id": "40fec2b6",
   "metadata": {},
   "source": [
    "### P1 pods\n",
    "* These performance-optimized pods provide very low query latencies, but hold fewer vectors per pod than s1 pods. They are ideal for applications with low latency requirements (<100ms).\n",
    "\n",
    "* Each p1 pod has enough capacity for around `1M vectors of 768 dimensions.`\n",
    "* However, unlike with p1 and s1 pods, filtering searches of indexes on p2 pods does not improve query latency."
   ]
  },
  {
   "cell_type": "markdown",
   "id": "f95cddde",
   "metadata": {},
   "source": [
    "### 4. Increasing the pod size for an index"
   ]
  },
  {
   "cell_type": "code",
   "execution_count": null,
   "id": "c0e3a7f6",
   "metadata": {},
   "outputs": [],
   "source": [
    "pinecone.configure_index(pinecone_index_name, pod_type=\"p1.x1\")"
   ]
  },
  {
   "cell_type": "markdown",
   "id": "ef6a74fc",
   "metadata": {},
   "source": [
    "## Limits"
   ]
  },
  {
   "cell_type": "markdown",
   "id": "653a624e",
   "metadata": {},
   "source": [
    "1. Max vector dimensionality is 20,000.\n",
    "\n",
    "2. Max size for an upsert request is 2MB.\n",
    "\n",
    "3. Max value for top_k, the number of results to return, is 10,000.\n",
    "\n",
    "4. Max value for top_k for queries with include_metadata=True or include_data=True is 1,000\n",
    "\n",
    "5. Max vectors per fetch or delete request is 1,000.\n",
    "\n",
    "6. Each p1 pod has enough capacity for 1M vectors with 768 dimensions.\n",
    "\n",
    "7. Each s1 pod has enough capacity for 5M vectors with 768 dimensions.\n",
    "\n",
    "8. Max metadata size per vector is 10 KB."
   ]
  },
  {
   "cell_type": "code",
   "execution_count": null,
   "id": "cc84eda8",
   "metadata": {},
   "outputs": [],
   "source": []
  }
 ],
 "metadata": {
  "kernelspec": {
   "display_name": "mlflow_env_mounted",
   "language": "python",
   "name": "mlflow_env_mounted"
  },
  "language_info": {
   "codemirror_mode": {
    "name": "ipython",
    "version": 3
   },
   "file_extension": ".py",
   "mimetype": "text/x-python",
   "name": "python",
   "nbconvert_exporter": "python",
   "pygments_lexer": "ipython3",
   "version": "3.8.5"
  }
 },
 "nbformat": 4,
 "nbformat_minor": 5
}
